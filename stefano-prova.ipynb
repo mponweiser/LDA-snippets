{
 "cells": [
  {
   "cell_type": "code",
   "execution_count": 161,
   "metadata": {
    "collapsed": true
   },
   "outputs": [],
   "source": [
    "mycorpus<-read.csv(\"prova.csv\",header=TRUE, sep=\";\",stringsAsFactors = FALSE) "
   ]
  },
  {
   "cell_type": "code",
   "execution_count": 162,
   "metadata": {
    "collapsed": false
   },
   "outputs": [],
   "source": [
    "library(tm)"
   ]
  },
  {
   "cell_type": "code",
   "execution_count": 163,
   "metadata": {
    "collapsed": true
   },
   "outputs": [],
   "source": [
    "corpus<-Corpus(VectorSource(mycorpus$Abstract))"
   ]
  },
  {
   "cell_type": "code",
   "execution_count": 164,
   "metadata": {
    "collapsed": false
   },
   "outputs": [
    {
     "data": {
      "text/plain": [
       "<<VCorpus>>\n",
       "Metadata:  corpus specific: 0, document level (indexed): 0\n",
       "Content:  documents: 1465"
      ]
     },
     "metadata": {},
     "output_type": "display_data"
    }
   ],
   "source": [
    "corpus"
   ]
  },
  {
   "cell_type": "code",
   "execution_count": 165,
   "metadata": {
    "collapsed": true
   },
   "outputs": [],
   "source": [
    "cleancorpus<-tm_map(corpus,content_transformer(removePunctuation))\n",
    "cleancorpus<-tm_map(cleancorpus,content_transformer(removeNumbers))\n",
    "cleancorpus<-tm_map(cleancorpus,content_transformer(tolower))\n",
    "cleancorpus<-tm_map(cleancorpus,content_transformer(function(x) removeWords(x,stopwords(kind=\"en\"))))"
   ]
  },
  {
   "cell_type": "code",
   "execution_count": 166,
   "metadata": {
    "collapsed": false
   },
   "outputs": [
    {
     "data": {
      "text/plain": [
       "<<VCorpus>>\n",
       "Metadata:  corpus specific: 0, document level (indexed): 0\n",
       "Content:  documents: 1465"
      ]
     },
     "metadata": {},
     "output_type": "display_data"
    }
   ],
   "source": [
    "cleancorpus\n"
   ]
  },
  {
   "cell_type": "code",
   "execution_count": 167,
   "metadata": {
    "collapsed": true
   },
   "outputs": [],
   "source": [
    "tdm<-DocumentTermMatrix(cleancorpus)"
   ]
  },
  {
   "cell_type": "code",
   "execution_count": 168,
   "metadata": {
    "collapsed": false
   },
   "outputs": [
    {
     "data": {
      "text/plain": [
       "<<DocumentTermMatrix (documents: 1465, terms: 12215)>>\n",
       "Non-/sparse entries: 90718/17804257\n",
       "Sparsity           : 99%\n",
       "Maximal term length: 31\n",
       "Weighting          : term frequency (tf)"
      ]
     },
     "metadata": {},
     "output_type": "display_data"
    }
   ],
   "source": [
    "tdm"
   ]
  },
  {
   "cell_type": "code",
   "execution_count": 169,
   "metadata": {
    "collapsed": true
   },
   "outputs": [],
   "source": [
    "#weith with tfidf\n",
    "tdm2 <- as.DocumentTermMatrix(tdm,weighting=weightTfIdf)\n",
    "\n",
    "#selected of terms based on frequences\n",
    "tdm<-tdm2[apply(tdm2,1,sum)>9,]"
   ]
  },
  {
   "cell_type": "code",
   "execution_count": 170,
   "metadata": {
    "collapsed": false
   },
   "outputs": [
    {
     "data": {
      "text/plain": [
       "<<DocumentTermMatrix (documents: 1465, terms: 12215)>>\n",
       "Non-/sparse entries: 90718/17804257\n",
       "Sparsity           : 99%\n",
       "Maximal term length: 31\n",
       "Weighting          : term frequency (tf)"
      ]
     },
     "metadata": {},
     "output_type": "display_data"
    }
   ],
   "source": [
    "tdm"
   ]
  },
  {
   "cell_type": "code",
   "execution_count": 171,
   "metadata": {
    "collapsed": false
   },
   "outputs": [],
   "source": [
    "# install.packages(\"topicmodels\", repos='http://cran.us.r-project.org')"
   ]
  },
  {
   "cell_type": "code",
   "execution_count": 199,
   "metadata": {
    "collapsed": true
   },
   "outputs": [],
   "source": [
    "library(topicmodels)\n",
    "lda <- LDA(tdm, k = 50) # find 20 topics"
   ]
  },
  {
   "cell_type": "code",
   "execution_count": 200,
   "metadata": {
    "collapsed": false
   },
   "outputs": [
    {
     "name": "stdout",
     "output_type": "stream",
     "text": [
      "Formal class 'LDA_VEM' [package \"topicmodels\"] with 14 slots\n",
      "  ..@ alpha          : num 0.00977\n",
      "  ..@ call           : language LDA(x = tdm, k = 50)\n",
      "  ..@ Dim            : int [1:2] 1465 12215\n",
      "  ..@ control        :Formal class 'LDA_VEMcontrol' [package \"topicmodels\"] with 13 slots\n",
      "  .. .. ..@ estimate.alpha: logi TRUE\n",
      "  .. .. ..@ alpha         : num 1\n",
      "  .. .. ..@ seed          : int 1470477226\n",
      "  .. .. ..@ verbose       : int 0\n",
      "  .. .. ..@ prefix        : chr \"C:\\\\Users\\\\Martin\\\\AppData\\\\Local\\\\Temp\\\\Rtmp6B2H6u\\\\file1cf421058c2\"\n",
      "  .. .. ..@ save          : int 0\n",
      "  .. .. ..@ nstart        : int 1\n",
      "  .. .. ..@ best          : logi TRUE\n",
      "  .. .. ..@ keep          : int 0\n",
      "  .. .. ..@ estimate.beta : logi TRUE\n",
      "  .. .. ..@ var           :Formal class 'OPTcontrol' [package \"topicmodels\"] with 2 slots\n",
      "  .. .. .. .. ..@ iter.max: int 500\n",
      "  .. .. .. .. ..@ tol     : num 1e-06\n",
      "  .. .. ..@ em            :Formal class 'OPTcontrol' [package \"topicmodels\"] with 2 slots\n",
      "  .. .. .. .. ..@ iter.max: int 1000\n",
      "  .. .. .. .. ..@ tol     : num 1e-04\n",
      "  .. .. ..@ initialize    : chr \"random\"\n",
      "  ..@ k              : int 50\n",
      "  ..@ terms          : chr [1:12215] \"ãmile\"\"| __truncated__ \"abandon\" \"abandoned\" \"abandoning\" ...\n",
      "  ..@ documents      : chr [1:1465] \"1\" \"2\" \"3\" \"4\" ...\n",
      "  ..@ beta           : num [1:50, 1:12215] -100 -100 -100 -100 -100 -100 -100 -100 -100 -100 ...\n",
      "  ..@ gamma          : num [1:1465, 1:50] 0.000176 0.000118 0.000147 0.000143 0.000118 ...\n",
      "  ..@ wordassignments:List of 5\n",
      "  .. ..$ i   : int [1:90718] 1 1 1 1 1 1 1 1 1 1 ...\n",
      "  .. ..$ j   : int [1:90718] 24 166 389 614 970 993 1636 1731 1820 2088 ...\n",
      "  .. ..$ v   : num [1:90718] 14 14 14 14 14 14 14 14 14 14 ...\n",
      "  .. ..$ nrow: int 1465\n",
      "  .. ..$ ncol: int 12215\n",
      "  .. ..- attr(*, \"class\")= chr \"simple_triplet_matrix\"\n",
      "  ..@ loglikelihood  : num [1:1465] -367 -547 -470 -479 -598 ...\n",
      "  ..@ iter           : int 92\n",
      "  ..@ logLiks        : num(0) \n",
      "  ..@ n              : int 116652\n"
     ]
    }
   ],
   "source": [
    "str(lda)"
   ]
  },
  {
   "cell_type": "code",
   "execution_count": 202,
   "metadata": {
    "collapsed": false
   },
   "outputs": [],
   "source": [
    "terms_10 <- terms(lda, 10) # first 10 terms of every topic\n",
    "terms_10 <- apply(terms_10, MARGIN = 2, paste, collapse = \", \")"
   ]
  },
  {
   "cell_type": "code",
   "execution_count": 230,
   "metadata": {
    "collapsed": false
   },
   "outputs": [],
   "source": [
    "topic_most_likely <- topics(lda, 1)"
   ]
  },
  {
   "cell_type": "code",
   "execution_count": 231,
   "metadata": {
    "collapsed": false
   },
   "outputs": [],
   "source": [
    "topics_years <- data.frame(date=(mycorpus$anno),topic_most_likely)"
   ]
  },
  {
   "cell_type": "code",
   "execution_count": 205,
   "metadata": {
    "collapsed": false
   },
   "outputs": [],
   "source": [
    "library(ggplot2)"
   ]
  },
  {
   "cell_type": "code",
   "execution_count": 282,
   "metadata": {
    "collapsed": false
   },
   "outputs": [
    {
     "data": {
      "image/png": "[encoded data removed]",
      "text/plain": [
       "plot without title"
      ]
     },
     "metadata": {
      "image/svg+xml": {
       "isolated": true
      }
     },
     "output_type": "display_data"
    }
   ],
   "source": [
    "#qplot(date, ..count.., data=topics_years, geom=\"density\", fill=terms_10[topic_most_likely])\n",
    "qplot(date, ..count.., data=topics_years, geom=\"density\", fill=paste(topic_most_likely))\n"
   ]
  },
  {
   "cell_type": "code",
   "execution_count": null,
   "metadata": {
    "collapsed": true
   },
   "outputs": [],
   "source": [
    "# I find ggplot more explicit (a commenter on StackOverflow said: \"ignore qplot...\"):"
   ]
  },
  {
   "cell_type": "code",
   "execution_count": 237,
   "metadata": {
    "collapsed": false
   },
   "outputs": [
    {
     "data": {
      "image/png": "[encoded data removed]",
      "text/plain": [
       "plot without title"
      ]
     },
     "metadata": {
      "image/svg+xml": {
       "isolated": true
      }
     },
     "output_type": "display_data"
    }
   ],
   "source": [
    "ggplot(topics_years, aes(x=date, y=..count..)) + \n",
    "  geom_density(aes(fill=paste(topic_most_likely)), position=\"stack\")"
   ]
  },
  {
   "cell_type": "code",
   "execution_count": 208,
   "metadata": {
    "collapsed": false
   },
   "outputs": [
    {
     "data": {
      "text/plain": [
       "\n",
       "1967 1968 1969 1970 1971 1972 1973 1974 1975 1976 1977 1978 1979 1980 1981 1982 \n",
       "  17   17   22   20   31   28   28   25   21   29   29   26   27   31   26   28 \n",
       "1983 1984 1985 1986 1987 1988 1989 1990 1991 1992 1993 1994 1995 1996 1997 1998 \n",
       "  26   24   21   28   31   41   36   34   32   33   29   26   33   31   39   43 \n",
       "1999 2000 2001 2005 2006 2007 2008 2009 2010 2011 2012 2013 2014 2015 \n",
       "  28   32   32   19   35   36   45   43   48   49   49   47   44   46 "
      ]
     },
     "metadata": {},
     "output_type": "display_data"
    }
   ],
   "source": [
    "table(mycorpus$anno)"
   ]
  },
  {
   "cell_type": "code",
   "execution_count": 247,
   "metadata": {
    "collapsed": false
   },
   "outputs": [
    {
     "data": {
      "image/png": "[encoded data removed]",
      "text/plain": [
       "plot without title"
      ]
     },
     "metadata": {
      "image/svg+xml": {
       "isolated": true
      }
     },
     "output_type": "display_data"
    }
   ],
   "source": [
    "print(xyplot(theta_mean_by_year_ts[,names(sort(theta_mean_lm_coef_slope))],\n",
    "\t#layout = c(5, 5),\n",
    "\t#screens = c(rep(\"cold topics\", 5), rep(\"hot topics\", 5)),\n",
    "\tscreens = rep(1:5, each = 10),\n",
    "\tsuperpose = TRUE,\n",
    "\tcol = \"blue\",\n",
    "\talpha = 0.3,\n",
    "\t#ylim = c(0, 0.015),\n",
    "        #ylab = \"Mean theta\",\n",
    "        ylab = expression(paste(\"Mean \",theta)),\n",
    "\txlab = \"Year\",\n",
    "\ttype = c(\"l\", \"g\"),\n",
    "\t#aspect = \"xy\",\n",
    "\t#auto.key = list(space = \"right\"), \n",
    "\tauto.key = FALSE,\n",
    "\tscales = list(x = list(alternating = FALSE)),\n",
    "\t#par.settings = standard.theme(color = FALSE)\n",
    "\t))"
   ]
  },
  {
   "cell_type": "code",
   "execution_count": 249,
   "metadata": {
    "collapsed": true
   },
   "outputs": [],
   "source": [
    "years <- levels(factor(mycorpus$anno))\n",
    "topics_n <- lda@k\n",
    "theta <- posterior(lda)$topics # theta is the per-document likelihood for a topic"
   ]
  },
  {
   "cell_type": "code",
   "execution_count": 250,
   "metadata": {
    "collapsed": true
   },
   "outputs": [],
   "source": [
    "theta_mean_by_year_by <- by(theta, mycorpus$anno, colMeans)\n",
    "theta_mean_by_year <- do.call(\"rbind\",theta_mean_by_year_by)\n",
    "colnames(theta_mean_by_year) = paste(1:topics_n)"
   ]
  },
  {
   "cell_type": "code",
   "execution_count": 251,
   "metadata": {
    "collapsed": true
   },
   "outputs": [],
   "source": [
    "theta_mean_by_year_ts <- ts(theta_mean_by_year, start = as.integer(years[1]))\n",
    "theta_mean_by_year_time <- time(theta_mean_by_year)"
   ]
  },
  {
   "cell_type": "code",
   "execution_count": 252,
   "metadata": {
    "collapsed": true
   },
   "outputs": [],
   "source": [
    "theta_mean_lm <- apply(theta_mean_by_year, 2, function(x) lm(x ~ theta_mean_by_year_time))\n",
    "theta_mean_lm_coef <- lapply(theta_mean_lm, function(x) coef(summary(x)))\n",
    "theta_mean_lm_coef_sign <- sapply(theta_mean_lm_coef, '[',\"theta_mean_by_year_time\",\"Pr(>|t|)\")\n",
    "theta_mean_lm_coef_slope <- sapply(theta_mean_lm_coef, '[',\"theta_mean_by_year_time\",\"Estimate\")"
   ]
  },
  {
   "cell_type": "code",
   "execution_count": 253,
   "metadata": {
    "collapsed": true
   },
   "outputs": [],
   "source": [
    "theta_mean_lm_coef_slope_pos <- theta_mean_lm_coef_slope[theta_mean_lm_coef_slope >= 0]\n",
    "theta_mean_lm_coef_slope_neg <- theta_mean_lm_coef_slope[theta_mean_lm_coef_slope < 0]"
   ]
  },
  {
   "cell_type": "code",
   "execution_count": 270,
   "metadata": {
    "collapsed": true
   },
   "outputs": [],
   "source": [
    "p_level <- c(0.5, 0.01, 0.001, 0.0001)\n",
    "significance_total <- sapply(p_level, function(x) (theta_mean_lm_coef_sign[theta_mean_lm_coef_sign < x]))\n",
    "significance_neg <- sapply(1:length(p_level), function(x) intersect(names(theta_mean_lm_coef_slope_neg), names(significance_total[[x]])))\n",
    "significance_pos <- sapply(1:length(p_level), function(x) intersect(names(theta_mean_lm_coef_slope_pos), names(significance_total[[x]])))"
   ]
  },
  {
   "cell_type": "code",
   "execution_count": 271,
   "metadata": {
    "collapsed": false
   },
   "outputs": [
    {
     "data": {
      "text/html": [
       "<ol>\n",
       "\t<li><ol class=list-inline>\n",
       "\t<li>\"4\"</li>\n",
       "\t<li>\"5\"</li>\n",
       "\t<li>\"7\"</li>\n",
       "\t<li>\"10\"</li>\n",
       "\t<li>\"12\"</li>\n",
       "\t<li>\"16\"</li>\n",
       "\t<li>\"17\"</li>\n",
       "\t<li>\"18\"</li>\n",
       "\t<li>\"25\"</li>\n",
       "\t<li>\"26\"</li>\n",
       "\t<li>\"30\"</li>\n",
       "\t<li>\"33\"</li>\n",
       "\t<li>\"40\"</li>\n",
       "\t<li>\"45\"</li>\n",
       "\t<li>\"50\"</li>\n",
       "</ol>\n",
       "</li>\n",
       "\t<li><ol class=list-inline>\n",
       "\t<li>\"16\"</li>\n",
       "\t<li>\"18\"</li>\n",
       "\t<li>\"25\"</li>\n",
       "\t<li>\"26\"</li>\n",
       "\t<li>\"33\"</li>\n",
       "\t<li>\"50\"</li>\n",
       "</ol>\n",
       "</li>\n",
       "\t<li><ol class=list-inline>\n",
       "\t<li>\"16\"</li>\n",
       "\t<li>\"25\"</li>\n",
       "\t<li>\"33\"</li>\n",
       "</ol>\n",
       "</li>\n",
       "\t<li><ol class=list-inline>\n",
       "\t<li>\"16\"</li>\n",
       "\t<li>\"25\"</li>\n",
       "\t<li>\"33\"</li>\n",
       "</ol>\n",
       "</li>\n",
       "</ol>\n"
      ],
      "text/latex": [
       "\\begin{enumerate}\n",
       "\\item \\begin{enumerate*}\n",
       "\\item \"4\"\n",
       "\\item \"5\"\n",
       "\\item \"7\"\n",
       "\\item \"10\"\n",
       "\\item \"12\"\n",
       "\\item \"16\"\n",
       "\\item \"17\"\n",
       "\\item \"18\"\n",
       "\\item \"25\"\n",
       "\\item \"26\"\n",
       "\\item \"30\"\n",
       "\\item \"33\"\n",
       "\\item \"40\"\n",
       "\\item \"45\"\n",
       "\\item \"50\"\n",
       "\\end{enumerate*}\n",
       "\n",
       "\\item \\begin{enumerate*}\n",
       "\\item \"16\"\n",
       "\\item \"18\"\n",
       "\\item \"25\"\n",
       "\\item \"26\"\n",
       "\\item \"33\"\n",
       "\\item \"50\"\n",
       "\\end{enumerate*}\n",
       "\n",
       "\\item \\begin{enumerate*}\n",
       "\\item \"16\"\n",
       "\\item \"25\"\n",
       "\\item \"33\"\n",
       "\\end{enumerate*}\n",
       "\n",
       "\\item \\begin{enumerate*}\n",
       "\\item \"16\"\n",
       "\\item \"25\"\n",
       "\\item \"33\"\n",
       "\\end{enumerate*}\n",
       "\n",
       "\\end{enumerate}\n"
      ],
      "text/markdown": [
       "1. 1. \"4\"\n",
       "2. \"5\"\n",
       "3. \"7\"\n",
       "4. \"10\"\n",
       "5. \"12\"\n",
       "6. \"16\"\n",
       "7. \"17\"\n",
       "8. \"18\"\n",
       "9. \"25\"\n",
       "10. \"26\"\n",
       "11. \"30\"\n",
       "12. \"33\"\n",
       "13. \"40\"\n",
       "14. \"45\"\n",
       "15. \"50\"\n",
       "\n",
       "\n",
       "\n",
       "2. 1. \"16\"\n",
       "2. \"18\"\n",
       "3. \"25\"\n",
       "4. \"26\"\n",
       "5. \"33\"\n",
       "6. \"50\"\n",
       "\n",
       "\n",
       "\n",
       "3. 1. \"16\"\n",
       "2. \"25\"\n",
       "3. \"33\"\n",
       "\n",
       "\n",
       "\n",
       "4. 1. \"16\"\n",
       "2. \"25\"\n",
       "3. \"33\"\n",
       "\n",
       "\n",
       "\n",
       "\n",
       "\n"
      ],
      "text/plain": [
       "[[1]]\n",
       " [1] \"4\"  \"5\"  \"7\"  \"10\" \"12\" \"16\" \"17\" \"18\" \"25\" \"26\" \"30\" \"33\" \"40\" \"45\" \"50\"\n",
       "\n",
       "[[2]]\n",
       "[1] \"16\" \"18\" \"25\" \"26\" \"33\" \"50\"\n",
       "\n",
       "[[3]]\n",
       "[1] \"16\" \"25\" \"33\"\n",
       "\n",
       "[[4]]\n",
       "[1] \"16\" \"25\" \"33\"\n"
      ]
     },
     "metadata": {},
     "output_type": "display_data"
    },
    {
     "data": {
      "text/html": [
       "<ol>\n",
       "\t<li><ol class=list-inline>\n",
       "\t<li>\"1\"</li>\n",
       "\t<li>\"2\"</li>\n",
       "\t<li>\"9\"</li>\n",
       "\t<li>\"13\"</li>\n",
       "\t<li>\"15\"</li>\n",
       "\t<li>\"20\"</li>\n",
       "\t<li>\"21\"</li>\n",
       "\t<li>\"22\"</li>\n",
       "\t<li>\"24\"</li>\n",
       "\t<li>\"27\"</li>\n",
       "\t<li>\"31\"</li>\n",
       "\t<li>\"35\"</li>\n",
       "\t<li>\"36\"</li>\n",
       "\t<li>\"37\"</li>\n",
       "\t<li>\"38\"</li>\n",
       "\t<li>\"39\"</li>\n",
       "\t<li>\"43\"</li>\n",
       "\t<li>\"47\"</li>\n",
       "</ol>\n",
       "</li>\n",
       "\t<li><ol class=list-inline>\n",
       "\t<li>\"20\"</li>\n",
       "\t<li>\"21\"</li>\n",
       "\t<li>\"24\"</li>\n",
       "\t<li>\"31\"</li>\n",
       "\t<li>\"35\"</li>\n",
       "\t<li>\"36\"</li>\n",
       "</ol>\n",
       "</li>\n",
       "\t<li><ol class=list-inline>\n",
       "\t<li>\"20\"</li>\n",
       "\t<li>\"24\"</li>\n",
       "\t<li>\"35\"</li>\n",
       "\t<li>\"36\"</li>\n",
       "</ol>\n",
       "</li>\n",
       "\t<li><ol class=list-inline>\n",
       "\t<li>\"20\"</li>\n",
       "\t<li>\"35\"</li>\n",
       "</ol>\n",
       "</li>\n",
       "</ol>\n"
      ],
      "text/latex": [
       "\\begin{enumerate}\n",
       "\\item \\begin{enumerate*}\n",
       "\\item \"1\"\n",
       "\\item \"2\"\n",
       "\\item \"9\"\n",
       "\\item \"13\"\n",
       "\\item \"15\"\n",
       "\\item \"20\"\n",
       "\\item \"21\"\n",
       "\\item \"22\"\n",
       "\\item \"24\"\n",
       "\\item \"27\"\n",
       "\\item \"31\"\n",
       "\\item \"35\"\n",
       "\\item \"36\"\n",
       "\\item \"37\"\n",
       "\\item \"38\"\n",
       "\\item \"39\"\n",
       "\\item \"43\"\n",
       "\\item \"47\"\n",
       "\\end{enumerate*}\n",
       "\n",
       "\\item \\begin{enumerate*}\n",
       "\\item \"20\"\n",
       "\\item \"21\"\n",
       "\\item \"24\"\n",
       "\\item \"31\"\n",
       "\\item \"35\"\n",
       "\\item \"36\"\n",
       "\\end{enumerate*}\n",
       "\n",
       "\\item \\begin{enumerate*}\n",
       "\\item \"20\"\n",
       "\\item \"24\"\n",
       "\\item \"35\"\n",
       "\\item \"36\"\n",
       "\\end{enumerate*}\n",
       "\n",
       "\\item \\begin{enumerate*}\n",
       "\\item \"20\"\n",
       "\\item \"35\"\n",
       "\\end{enumerate*}\n",
       "\n",
       "\\end{enumerate}\n"
      ],
      "text/markdown": [
       "1. 1. \"1\"\n",
       "2. \"2\"\n",
       "3. \"9\"\n",
       "4. \"13\"\n",
       "5. \"15\"\n",
       "6. \"20\"\n",
       "7. \"21\"\n",
       "8. \"22\"\n",
       "9. \"24\"\n",
       "10. \"27\"\n",
       "11. \"31\"\n",
       "12. \"35\"\n",
       "13. \"36\"\n",
       "14. \"37\"\n",
       "15. \"38\"\n",
       "16. \"39\"\n",
       "17. \"43\"\n",
       "18. \"47\"\n",
       "\n",
       "\n",
       "\n",
       "2. 1. \"20\"\n",
       "2. \"21\"\n",
       "3. \"24\"\n",
       "4. \"31\"\n",
       "5. \"35\"\n",
       "6. \"36\"\n",
       "\n",
       "\n",
       "\n",
       "3. 1. \"20\"\n",
       "2. \"24\"\n",
       "3. \"35\"\n",
       "4. \"36\"\n",
       "\n",
       "\n",
       "\n",
       "4. 1. \"20\"\n",
       "2. \"35\"\n",
       "\n",
       "\n",
       "\n",
       "\n",
       "\n"
      ],
      "text/plain": [
       "[[1]]\n",
       " [1] \"1\"  \"2\"  \"9\"  \"13\" \"15\" \"20\" \"21\" \"22\" \"24\" \"27\" \"31\" \"35\" \"36\" \"37\" \"38\"\n",
       "[16] \"39\" \"43\" \"47\"\n",
       "\n",
       "[[2]]\n",
       "[1] \"20\" \"21\" \"24\" \"31\" \"35\" \"36\"\n",
       "\n",
       "[[3]]\n",
       "[1] \"20\" \"24\" \"35\" \"36\"\n",
       "\n",
       "[[4]]\n",
       "[1] \"20\" \"35\"\n"
      ]
     },
     "metadata": {},
     "output_type": "display_data"
    }
   ],
   "source": [
    "significance_neg\n",
    "significance_pos"
   ]
  },
  {
   "cell_type": "code",
   "execution_count": 272,
   "metadata": {
    "collapsed": true
   },
   "outputs": [],
   "source": [
    "topics_hot <- as.numeric(names(sort(theta_mean_lm_coef_slope[significance_pos[[1]]], decreasing=TRUE)))\n",
    "topics_cold <- as.numeric(names(sort(theta_mean_lm_coef_slope[significance_neg[[1]]], decreasing=FALSE)))"
   ]
  },
  {
   "cell_type": "code",
   "execution_count": 280,
   "metadata": {
    "collapsed": false
   },
   "outputs": [
    {
     "data": {
      "text/html": [
       "<ol class=list-inline>\n",
       "\t<li>20</li>\n",
       "\t<li>36</li>\n",
       "\t<li>24</li>\n",
       "\t<li>35</li>\n",
       "\t<li>31</li>\n",
       "\t<li>21</li>\n",
       "</ol>\n"
      ],
      "text/latex": [
       "\\begin{enumerate*}\n",
       "\\item 20\n",
       "\\item 36\n",
       "\\item 24\n",
       "\\item 35\n",
       "\\item 31\n",
       "\\item 21\n",
       "\\end{enumerate*}\n"
      ],
      "text/markdown": [
       "1. 20\n",
       "2. 36\n",
       "3. 24\n",
       "4. 35\n",
       "5. 31\n",
       "6. 21\n",
       "\n",
       "\n"
      ],
      "text/plain": [
       "[1] 20 36 24 35 31 21"
      ]
     },
     "metadata": {},
     "output_type": "display_data"
    },
    {
     "data": {
      "text/html": [
       "<ol class=list-inline>\n",
       "\t<li>25</li>\n",
       "\t<li>33</li>\n",
       "\t<li>50</li>\n",
       "\t<li>16</li>\n",
       "\t<li>18</li>\n",
       "\t<li>26</li>\n",
       "</ol>\n"
      ],
      "text/latex": [
       "\\begin{enumerate*}\n",
       "\\item 25\n",
       "\\item 33\n",
       "\\item 50\n",
       "\\item 16\n",
       "\\item 18\n",
       "\\item 26\n",
       "\\end{enumerate*}\n"
      ],
      "text/markdown": [
       "1. 25\n",
       "2. 33\n",
       "3. 50\n",
       "4. 16\n",
       "5. 18\n",
       "6. 26\n",
       "\n",
       "\n"
      ],
      "text/plain": [
       "[1] 25 33 50 16 18 26"
      ]
     },
     "metadata": {},
     "output_type": "display_data"
    }
   ],
   "source": [
    "topics_hot\n",
    "topics_cold"
   ]
  },
  {
   "cell_type": "code",
   "execution_count": 274,
   "metadata": {
    "collapsed": false,
    "scrolled": false
   },
   "outputs": [],
   "source": [
    "cold_and_hot_ts <- cbind(\n",
    "    theta_mean_by_year_ts[,topics_cold[1:5]],\n",
    "    theta_mean_by_year_ts[,topics_hot[1:5]], deparse.level=0)"
   ]
  },
  {
   "cell_type": "code",
   "execution_count": 275,
   "metadata": {
    "collapsed": false
   },
   "outputs": [],
   "source": [
    "colnames(cold_and_hot_ts) <- as.character(c(topics_cold[1:5], topics_hot[1:5]))"
   ]
  },
  {
   "cell_type": "code",
   "execution_count": 276,
   "metadata": {
    "collapsed": true
   },
   "outputs": [],
   "source": [
    "library(lattice)"
   ]
  },
  {
   "cell_type": "code",
   "execution_count": 277,
   "metadata": {
    "collapsed": false
   },
   "outputs": [
    {
     "data": {
      "image/png": "[encoded data removed]",
      "text/plain": [
       "plot without title"
      ]
     },
     "metadata": {
      "image/svg+xml": {
       "isolated": true
      }
     },
     "output_type": "display_data"
    }
   ],
   "source": [
    "print(xyplot(cold_and_hot_ts,\n",
    "\tlayout = c(2, 1),\n",
    "        screens = c(rep(\"Cold topics\", 5), rep(\"Hot topics\", 5)),\n",
    "\tsuperpose = TRUE,\n",
    "        #ylim = c(0.04, 0.06),\n",
    "\tylab = expression(paste(\"Mean \",theta)),\n",
    "\txlab = \"Year\",\n",
    "\ttype = c(\"l\", \"g\"),\n",
    "\tauto.key = list(space = \"right\"), \n",
    "\tscales = list(x = list(alternating = FALSE))\n",
    "    # scales= list( relation =\"free\")\n",
    "\t#par.settings = standard.theme(color = FALSE)\n",
    "        ))"
   ]
  },
  {
   "cell_type": "code",
   "execution_count": 278,
   "metadata": {
    "collapsed": false
   },
   "outputs": [
    {
     "data": {
      "text/html": [
       "<dl class=dl-horizontal>\n",
       "\t<dt>Topic 25</dt>\n",
       "\t\t<dd>\"sects, religious, sect, social, churchsect, typology, development, along, organizations, face\"</dd>\n",
       "\t<dt>Topic 33</dt>\n",
       "\t\t<dd>\"religious, experience, persons, experiences, reports, mystical, stress, values, found, study\"</dd>\n",
       "\t<dt>Topic 50</dt>\n",
       "\t\t<dd>\"religious, religion, freedom, toward, related, study, paper, analysis, alienation, attitudes\"</dd>\n",
       "\t<dt>Topic 16</dt>\n",
       "\t\t<dd>\"belief, church, change, social, systems, data, found, religious, meaning, traditional\"</dd>\n",
       "\t<dt>Topic 18</dt>\n",
       "\t\t<dd>\"scale, factor, religious, study, scales, students, items, measure, analysis, factors\"</dd>\n",
       "\t<dt>Topic 20</dt>\n",
       "\t\t<dd>\"religious, health, coping, religion, study, positive, life, negative, wellbeing, associated\"</dd>\n",
       "\t<dt>Topic 36</dt>\n",
       "\t\t<dd>\"religious, participation, religion, study, effect, data, youth, women, society, socialization\"</dd>\n",
       "\t<dt>Topic 24</dt>\n",
       "\t\t<dd>\"religious, states, united, religion, countries, study, levels, among, data, differences\"</dd>\n",
       "\t<dt>Topic 35</dt>\n",
       "\t\t<dd>\"beliefs, religious, belief, religion, study, environmental, paranormal, attitudes, scientific, society\"</dd>\n",
       "\t<dt>Topic 31</dt>\n",
       "\t\t<dd>\"religious, age, social, protestant, cohort, church, effects, changes, study, attendance\"</dd>\n",
       "</dl>\n"
      ],
      "text/latex": [
       "\\begin{description*}\n",
       "\\item[Topic 25] \"sects, religious, sect, social, churchsect, typology, development, along, organizations, face\"\n",
       "\\item[Topic 33] \"religious, experience, persons, experiences, reports, mystical, stress, values, found, study\"\n",
       "\\item[Topic 50] \"religious, religion, freedom, toward, related, study, paper, analysis, alienation, attitudes\"\n",
       "\\item[Topic 16] \"belief, church, change, social, systems, data, found, religious, meaning, traditional\"\n",
       "\\item[Topic 18] \"scale, factor, religious, study, scales, students, items, measure, analysis, factors\"\n",
       "\\item[Topic 20] \"religious, health, coping, religion, study, positive, life, negative, wellbeing, associated\"\n",
       "\\item[Topic 36] \"religious, participation, religion, study, effect, data, youth, women, society, socialization\"\n",
       "\\item[Topic 24] \"religious, states, united, religion, countries, study, levels, among, data, differences\"\n",
       "\\item[Topic 35] \"beliefs, religious, belief, religion, study, environmental, paranormal, attitudes, scientific, society\"\n",
       "\\item[Topic 31] \"religious, age, social, protestant, cohort, church, effects, changes, study, attendance\"\n",
       "\\end{description*}\n"
      ],
      "text/markdown": [
       "Topic 25\n",
       ":   \"sects, religious, sect, social, churchsect, typology, development, along, organizations, face\"Topic 33\n",
       ":   \"religious, experience, persons, experiences, reports, mystical, stress, values, found, study\"Topic 50\n",
       ":   \"religious, religion, freedom, toward, related, study, paper, analysis, alienation, attitudes\"Topic 16\n",
       ":   \"belief, church, change, social, systems, data, found, religious, meaning, traditional\"Topic 18\n",
       ":   \"scale, factor, religious, study, scales, students, items, measure, analysis, factors\"Topic 20\n",
       ":   \"religious, health, coping, religion, study, positive, life, negative, wellbeing, associated\"Topic 36\n",
       ":   \"religious, participation, religion, study, effect, data, youth, women, society, socialization\"Topic 24\n",
       ":   \"religious, states, united, religion, countries, study, levels, among, data, differences\"Topic 35\n",
       ":   \"beliefs, religious, belief, religion, study, environmental, paranormal, attitudes, scientific, society\"Topic 31\n",
       ":   \"religious, age, social, protestant, cohort, church, effects, changes, study, attendance\"\n",
       "\n"
      ],
      "text/plain": [
       "                                                                                                Topic 25 \n",
       "         \"sects, religious, sect, social, churchsect, typology, development, along, organizations, face\" \n",
       "                                                                                                Topic 33 \n",
       "          \"religious, experience, persons, experiences, reports, mystical, stress, values, found, study\" \n",
       "                                                                                                Topic 50 \n",
       "          \"religious, religion, freedom, toward, related, study, paper, analysis, alienation, attitudes\" \n",
       "                                                                                                Topic 16 \n",
       "                 \"belief, church, change, social, systems, data, found, religious, meaning, traditional\" \n",
       "                                                                                                Topic 18 \n",
       "                  \"scale, factor, religious, study, scales, students, items, measure, analysis, factors\" \n",
       "                                                                                                Topic 20 \n",
       "           \"religious, health, coping, religion, study, positive, life, negative, wellbeing, associated\" \n",
       "                                                                                                Topic 36 \n",
       "         \"religious, participation, religion, study, effect, data, youth, women, society, socialization\" \n",
       "                                                                                                Topic 24 \n",
       "               \"religious, states, united, religion, countries, study, levels, among, data, differences\" \n",
       "                                                                                                Topic 35 \n",
       "\"beliefs, religious, belief, religion, study, environmental, paranormal, attitudes, scientific, society\" \n",
       "                                                                                                Topic 31 \n",
       "               \"religious, age, social, protestant, cohort, church, effects, changes, study, attendance\" "
      ]
     },
     "metadata": {},
     "output_type": "display_data"
    }
   ],
   "source": [
    "terms_10[c(topics_cold[1:5], topics_hot[1:5])]"
   ]
  },
  {
   "cell_type": "markdown",
   "metadata": {},
   "source": [
    "I do see some validity in this, for example mentions of \"sects\" have decreased over time. However theta is still quite erratic. The averaged topics in my thesis were a lot smoother (because of a bigger corpus and topics k), therefore the linear models made more sense.\n",
    "\n",
    "A couple of suggestions:\n",
    "\n",
    "- Try model fitting (maybe just rough manual k=10,20,30,40,50,70,...), to find optimal number of topics k for your analysis;\n",
    "\n",
    "- possibly this takes care of common terms like \"religious\", \"religion\", otherwise try more pruning or stemming.\n",
    "\n",
    "- For a better trend analysis maybe take a look at \"dynamic topic models\"."
   ]
  }
 ],
 "metadata": {
  "kernelspec": {
   "display_name": "R",
   "language": "R",
   "name": "ir"
  },
  "language_info": {
   "codemirror_mode": "r",
   "file_extension": ".r",
   "mimetype": "text/x-r-source",
   "name": "R",
   "pygments_lexer": "r",
   "version": "3.3.1"
  }
 },
 "nbformat": 4,
 "nbformat_minor": 0
}
