{
 "cells": [
  {
   "cell_type": "code",
   "execution_count": 40,
   "metadata": {
    "collapsed": false
   },
   "outputs": [],
   "source": [
    "mycorpus<-read.csv(\"prova.csv\",header=TRUE, sep=\";\",stringsAsFactors = FALSE) "
   ]
  },
  {
   "cell_type": "code",
   "execution_count": 41,
   "metadata": {
    "collapsed": false
   },
   "outputs": [],
   "source": [
    "library(tm)"
   ]
  },
  {
   "cell_type": "code",
   "execution_count": 42,
   "metadata": {
    "collapsed": false
   },
   "outputs": [],
   "source": [
    "corpus<-Corpus(VectorSource(mycorpus$Abstract))"
   ]
  },
  {
   "cell_type": "code",
   "execution_count": 44,
   "metadata": {
    "collapsed": false
   },
   "outputs": [],
   "source": [
    "cleancorpus<-tm_map(corpus,content_transformer(removePunctuation))\n",
    "cleancorpus<-tm_map(cleancorpus,content_transformer(removeNumbers))\n",
    "cleancorpus<-tm_map(cleancorpus,content_transformer(tolower))\n",
    "cleancorpus<-tm_map(cleancorpus,content_transformer(function(x) removeWords(x,stopwords(kind=\"en\"))))"
   ]
  },
  {
   "cell_type": "code",
   "execution_count": 45,
   "metadata": {
    "collapsed": false
   },
   "outputs": [
    {
     "data": {
      "text/plain": [
       "<<VCorpus>>\n",
       "Metadata:  corpus specific: 0, document level (indexed): 0\n",
       "Content:  documents: 1465"
      ]
     },
     "metadata": {},
     "output_type": "display_data"
    }
   ],
   "source": [
    "cleancorpus\n"
   ]
  },
  {
   "cell_type": "code",
   "execution_count": 46,
   "metadata": {
    "collapsed": false
   },
   "outputs": [],
   "source": [
    "tdm<-DocumentTermMatrix(cleancorpus)"
   ]
  },
  {
   "cell_type": "code",
   "execution_count": 48,
   "metadata": {
    "collapsed": false
   },
   "outputs": [],
   "source": [
    "#weith with tfidf\n",
    "tdm2 <- as.DocumentTermMatrix(tdm,weighting=weightTfIdf)\n",
    "\n",
    "#selected of terms based on frequences\n",
    "tdm<-tdm2[apply(tdm2,1,sum)>9,]"
   ]
  },
  {
   "cell_type": "code",
   "execution_count": 49,
   "metadata": {
    "collapsed": false
   },
   "outputs": [
    {
     "data": {
      "text/plain": [
       "<<DocumentTermMatrix (documents: 1465, terms: 12215)>>\n",
       "Non-/sparse entries: 90718/17804257\n",
       "Sparsity           : 99%\n",
       "Maximal term length: 31\n",
       "Weighting          : term frequency (tf)"
      ]
     },
     "metadata": {},
     "output_type": "display_data"
    }
   ],
   "source": [
    "tdm"
   ]
  },
  {
   "cell_type": "code",
   "execution_count": 50,
   "metadata": {
    "collapsed": false
   },
   "outputs": [],
   "source": [
    "# install.packages(\"topicmodels\", repos='http://cran.us.r-project.org')"
   ]
  },
  {
   "cell_type": "code",
   "execution_count": 51,
   "metadata": {
    "collapsed": false
   },
   "outputs": [],
   "source": [
    "library(topicmodels)\n",
    "lda <- LDA(tdm, k = 50) # find 20 topics; for 50 you need some patience, depending on your computer"
   ]
  },
  {
   "cell_type": "code",
   "execution_count": 52,
   "metadata": {
    "collapsed": false
   },
   "outputs": [
    {
     "name": "stdout",
     "output_type": "stream",
     "text": [
      "Formal class 'LDA_VEM' [package \"topicmodels\"] with 14 slots\n",
      "  ..@ alpha          : num 0.0096\n",
      "  ..@ call           : language LDA(x = tdm, k = 50)\n",
      "  ..@ Dim            : int [1:2] 1465 12215\n",
      "  ..@ control        :Formal class 'LDA_VEMcontrol' [package \"topicmodels\"] with 13 slots\n",
      "  .. .. ..@ estimate.alpha: logi TRUE\n",
      "  .. .. ..@ alpha         : num 1\n",
      "  .. .. ..@ seed          : int 1470484170\n",
      "  .. .. ..@ verbose       : int 0\n",
      "  .. .. ..@ prefix        : chr \"C:\\\\Users\\\\Martin\\\\AppData\\\\Local\\\\Temp\\\\RtmpwjimKQ\\\\file404514a395a\"\n",
      "  .. .. ..@ save          : int 0\n",
      "  .. .. ..@ nstart        : int 1\n",
      "  .. .. ..@ best          : logi TRUE\n",
      "  .. .. ..@ keep          : int 0\n",
      "  .. .. ..@ estimate.beta : logi TRUE\n",
      "  .. .. ..@ var           :Formal class 'OPTcontrol' [package \"topicmodels\"] with 2 slots\n",
      "  .. .. .. .. ..@ iter.max: int 500\n",
      "  .. .. .. .. ..@ tol     : num 1e-06\n",
      "  .. .. ..@ em            :Formal class 'OPTcontrol' [package \"topicmodels\"] with 2 slots\n",
      "  .. .. .. .. ..@ iter.max: int 1000\n",
      "  .. .. .. .. ..@ tol     : num 1e-04\n",
      "  .. .. ..@ initialize    : chr \"random\"\n",
      "  ..@ k              : int 50\n",
      "  ..@ terms          : chr [1:12215] \"ãmile\"\"| __truncated__ \"abandon\" \"abandoned\" \"abandoning\" ...\n",
      "  ..@ documents      : chr [1:1465] \"1\" \"2\" \"3\" \"4\" ...\n",
      "  ..@ beta           : num [1:50, 1:12215] -100 -100 -100 -100 -7.58 ...\n",
      "  ..@ gamma          : num [1:1465, 1:50] 0.000173 0.000116 0.000144 0.00014 0.000116 ...\n",
      "  ..@ wordassignments:List of 5\n",
      "  .. ..$ i   : int [1:90718] 1 1 1 1 1 1 1 1 1 1 ...\n",
      "  .. ..$ j   : int [1:90718] 24 166 389 614 970 993 1636 1731 1820 2088 ...\n",
      "  .. ..$ v   : num [1:90718] 23 23 23 23 23 23 23 23 23 23 ...\n",
      "  .. ..$ nrow: int 1465\n",
      "  .. ..$ ncol: int 12215\n",
      "  .. ..- attr(*, \"class\")= chr \"simple_triplet_matrix\"\n",
      "  ..@ loglikelihood  : num [1:1465] -390 -576 -452 -499 -544 ...\n",
      "  ..@ iter           : int 90\n",
      "  ..@ logLiks        : num(0) \n",
      "  ..@ n              : int 116652\n"
     ]
    }
   ],
   "source": [
    "str(lda)"
   ]
  },
  {
   "cell_type": "code",
   "execution_count": 53,
   "metadata": {
    "collapsed": false
   },
   "outputs": [],
   "source": [
    "terms_10 <- terms(lda, 10) # first 10 terms of every topic\n",
    "terms_10 <- apply(terms_10, MARGIN = 2, paste, collapse = \", \")"
   ]
  },
  {
   "cell_type": "code",
   "execution_count": 54,
   "metadata": {
    "collapsed": false
   },
   "outputs": [],
   "source": [
    "topic_most_likely <- topics(lda, 1)"
   ]
  },
  {
   "cell_type": "code",
   "execution_count": 55,
   "metadata": {
    "collapsed": false
   },
   "outputs": [],
   "source": [
    "topics_years <- data.frame(date=(mycorpus$anno),topic_most_likely)"
   ]
  },
  {
   "cell_type": "code",
   "execution_count": 56,
   "metadata": {
    "collapsed": false
   },
   "outputs": [],
   "source": [
    "library(ggplot2)"
   ]
  },
  {
   "cell_type": "code",
   "execution_count": 57,
   "metadata": {
    "collapsed": false
   },
   "outputs": [
    {
     "data": {
      "image/png": "[encoded data removed]",
      "text/plain": [
       "plot without title"
      ]
     },
     "metadata": {
      "image/svg+xml": {
       "isolated": true
      }
     },
     "output_type": "display_data"
    }
   ],
   "source": [
    "#qplot(date, ..count.., data=topics_years, geom=\"density\", fill=terms_10[topic_most_likely])\n",
    "qplot(date, ..count.., data=topics_years, geom=\"density\", fill=paste(topic_most_likely))"
   ]
  },
  {
   "cell_type": "code",
   "execution_count": 58,
   "metadata": {
    "collapsed": true
   },
   "outputs": [],
   "source": [
    "# I find ggplot more explicit (a commenter on StackOverflow said: \"ignore qplot...\"):"
   ]
  },
  {
   "cell_type": "code",
   "execution_count": 59,
   "metadata": {
    "collapsed": false
   },
   "outputs": [
    {
     "data": {
      "image/png": "[encoded data removed]",
      "text/plain": [
       "plot without title"
      ]
     },
     "metadata": {
      "image/svg+xml": {
       "isolated": true
      }
     },
     "output_type": "display_data"
    }
   ],
   "source": [
    "ggplot(topics_years, aes(x=date, y=..count..)) + \n",
    "  geom_density(aes(fill=paste(topic_most_likely)), position=\"stack\")"
   ]
  },
  {
   "cell_type": "code",
   "execution_count": 60,
   "metadata": {
    "collapsed": false
   },
   "outputs": [
    {
     "data": {
      "text/plain": [
       "\n",
       "1967 1968 1969 1970 1971 1972 1973 1974 1975 1976 1977 1978 1979 1980 1981 1982 \n",
       "  17   17   22   20   31   28   28   25   21   29   29   26   27   31   26   28 \n",
       "1983 1984 1985 1986 1987 1988 1989 1990 1991 1992 1993 1994 1995 1996 1997 1998 \n",
       "  26   24   21   28   31   41   36   34   32   33   29   26   33   31   39   43 \n",
       "1999 2000 2001 2005 2006 2007 2008 2009 2010 2011 2012 2013 2014 2015 \n",
       "  28   32   32   19   35   36   45   43   48   49   49   47   44   46 "
      ]
     },
     "metadata": {},
     "output_type": "display_data"
    }
   ],
   "source": [
    "table(mycorpus$anno)"
   ]
  },
  {
   "cell_type": "code",
   "execution_count": 62,
   "metadata": {
    "collapsed": false
   },
   "outputs": [],
   "source": [
    "years <- levels(factor(mycorpus$anno))\n",
    "topics_n <- lda@k\n",
    "theta <- posterior(lda)$topics # theta is the per-document likelihood for a topic"
   ]
  },
  {
   "cell_type": "code",
   "execution_count": 63,
   "metadata": {
    "collapsed": false
   },
   "outputs": [],
   "source": [
    "theta_mean_by_year_by <- by(theta, mycorpus$anno, colMeans)\n",
    "theta_mean_by_year <- do.call(\"rbind\",theta_mean_by_year_by)\n",
    "colnames(theta_mean_by_year) = paste(1:topics_n)"
   ]
  },
  {
   "cell_type": "code",
   "execution_count": 64,
   "metadata": {
    "collapsed": false
   },
   "outputs": [],
   "source": [
    "theta_mean_by_year_ts <- ts(theta_mean_by_year, start = as.integer(years[1]))\n",
    "theta_mean_by_year_time <- time(theta_mean_by_year)"
   ]
  },
  {
   "cell_type": "code",
   "execution_count": 65,
   "metadata": {
    "collapsed": false
   },
   "outputs": [],
   "source": [
    "theta_mean_lm <- apply(theta_mean_by_year, 2, function(x) lm(x ~ theta_mean_by_year_time))\n",
    "theta_mean_lm_coef <- lapply(theta_mean_lm, function(x) coef(summary(x)))\n",
    "theta_mean_lm_coef_sign <- sapply(theta_mean_lm_coef, '[',\"theta_mean_by_year_time\",\"Pr(>|t|)\")\n",
    "theta_mean_lm_coef_slope <- sapply(theta_mean_lm_coef, '[',\"theta_mean_by_year_time\",\"Estimate\")"
   ]
  },
  {
   "cell_type": "code",
   "execution_count": 66,
   "metadata": {
    "collapsed": false
   },
   "outputs": [],
   "source": [
    "theta_mean_lm_coef_slope_pos <- theta_mean_lm_coef_slope[theta_mean_lm_coef_slope >= 0]\n",
    "theta_mean_lm_coef_slope_neg <- theta_mean_lm_coef_slope[theta_mean_lm_coef_slope < 0]"
   ]
  },
  {
   "cell_type": "code",
   "execution_count": 67,
   "metadata": {
    "collapsed": false
   },
   "outputs": [],
   "source": [
    "p_level <- c(0.5, 0.01, 0.001, 0.0001)\n",
    "significance_total <- sapply(p_level, function(x) (theta_mean_lm_coef_sign[theta_mean_lm_coef_sign < x]))\n",
    "significance_neg <- sapply(1:length(p_level), function(x) intersect(names(theta_mean_lm_coef_slope_neg), names(significance_total[[x]])))\n",
    "significance_pos <- sapply(1:length(p_level), function(x) intersect(names(theta_mean_lm_coef_slope_pos), names(significance_total[[x]])))"
   ]
  },
  {
   "cell_type": "code",
   "execution_count": 68,
   "metadata": {
    "collapsed": false
   },
   "outputs": [
    {
     "data": {
      "text/html": [
       "<ol>\n",
       "\t<li><ol class=list-inline>\n",
       "\t<li>\"10\"</li>\n",
       "\t<li>\"13\"</li>\n",
       "\t<li>\"14\"</li>\n",
       "\t<li>\"16\"</li>\n",
       "\t<li>\"17\"</li>\n",
       "\t<li>\"19\"</li>\n",
       "\t<li>\"23\"</li>\n",
       "\t<li>\"25\"</li>\n",
       "\t<li>\"26\"</li>\n",
       "\t<li>\"27\"</li>\n",
       "\t<li>\"30\"</li>\n",
       "\t<li>\"35\"</li>\n",
       "\t<li>\"36\"</li>\n",
       "\t<li>\"40\"</li>\n",
       "\t<li>\"43\"</li>\n",
       "\t<li>\"47\"</li>\n",
       "\t<li>\"50\"</li>\n",
       "</ol>\n",
       "</li>\n",
       "\t<li><ol class=list-inline>\n",
       "\t<li>\"19\"</li>\n",
       "\t<li>\"23\"</li>\n",
       "\t<li>\"27\"</li>\n",
       "\t<li>\"30\"</li>\n",
       "\t<li>\"35\"</li>\n",
       "\t<li>\"36\"</li>\n",
       "\t<li>\"40\"</li>\n",
       "\t<li>\"43\"</li>\n",
       "</ol>\n",
       "</li>\n",
       "\t<li>\"27\"</li>\n",
       "\t<li>\"\"</li>\n",
       "</ol>\n"
      ],
      "text/latex": [
       "\\begin{enumerate}\n",
       "\\item \\begin{enumerate*}\n",
       "\\item \"10\"\n",
       "\\item \"13\"\n",
       "\\item \"14\"\n",
       "\\item \"16\"\n",
       "\\item \"17\"\n",
       "\\item \"19\"\n",
       "\\item \"23\"\n",
       "\\item \"25\"\n",
       "\\item \"26\"\n",
       "\\item \"27\"\n",
       "\\item \"30\"\n",
       "\\item \"35\"\n",
       "\\item \"36\"\n",
       "\\item \"40\"\n",
       "\\item \"43\"\n",
       "\\item \"47\"\n",
       "\\item \"50\"\n",
       "\\end{enumerate*}\n",
       "\n",
       "\\item \\begin{enumerate*}\n",
       "\\item \"19\"\n",
       "\\item \"23\"\n",
       "\\item \"27\"\n",
       "\\item \"30\"\n",
       "\\item \"35\"\n",
       "\\item \"36\"\n",
       "\\item \"40\"\n",
       "\\item \"43\"\n",
       "\\end{enumerate*}\n",
       "\n",
       "\\item \"27\"\n",
       "\\item \"\"\n",
       "\\end{enumerate}\n"
      ],
      "text/markdown": [
       "1. 1. \"10\"\n",
       "2. \"13\"\n",
       "3. \"14\"\n",
       "4. \"16\"\n",
       "5. \"17\"\n",
       "6. \"19\"\n",
       "7. \"23\"\n",
       "8. \"25\"\n",
       "9. \"26\"\n",
       "10. \"27\"\n",
       "11. \"30\"\n",
       "12. \"35\"\n",
       "13. \"36\"\n",
       "14. \"40\"\n",
       "15. \"43\"\n",
       "16. \"47\"\n",
       "17. \"50\"\n",
       "\n",
       "\n",
       "\n",
       "2. 1. \"19\"\n",
       "2. \"23\"\n",
       "3. \"27\"\n",
       "4. \"30\"\n",
       "5. \"35\"\n",
       "6. \"36\"\n",
       "7. \"40\"\n",
       "8. \"43\"\n",
       "\n",
       "\n",
       "\n",
       "3. \"27\"\n",
       "4. \"\"\n",
       "\n",
       "\n"
      ],
      "text/plain": [
       "[[1]]\n",
       " [1] \"10\" \"13\" \"14\" \"16\" \"17\" \"19\" \"23\" \"25\" \"26\" \"27\" \"30\" \"35\" \"36\" \"40\" \"43\"\n",
       "[16] \"47\" \"50\"\n",
       "\n",
       "[[2]]\n",
       "[1] \"19\" \"23\" \"27\" \"30\" \"35\" \"36\" \"40\" \"43\"\n",
       "\n",
       "[[3]]\n",
       "[1] \"27\"\n",
       "\n",
       "[[4]]\n",
       "character(0)\n"
      ]
     },
     "metadata": {},
     "output_type": "display_data"
    },
    {
     "data": {
      "text/html": [
       "<ol>\n",
       "\t<li><ol class=list-inline>\n",
       "\t<li>\"1\"</li>\n",
       "\t<li>\"2\"</li>\n",
       "\t<li>\"3\"</li>\n",
       "\t<li>\"4\"</li>\n",
       "\t<li>\"7\"</li>\n",
       "\t<li>\"8\"</li>\n",
       "\t<li>\"9\"</li>\n",
       "\t<li>\"11\"</li>\n",
       "\t<li>\"18\"</li>\n",
       "\t<li>\"20\"</li>\n",
       "\t<li>\"22\"</li>\n",
       "\t<li>\"24\"</li>\n",
       "\t<li>\"28\"</li>\n",
       "\t<li>\"29\"</li>\n",
       "\t<li>\"31\"</li>\n",
       "\t<li>\"32\"</li>\n",
       "\t<li>\"34\"</li>\n",
       "\t<li>\"37\"</li>\n",
       "\t<li>\"41\"</li>\n",
       "\t<li>\"45\"</li>\n",
       "\t<li>\"48\"</li>\n",
       "\t<li>\"49\"</li>\n",
       "</ol>\n",
       "</li>\n",
       "\t<li><ol class=list-inline>\n",
       "\t<li>\"2\"</li>\n",
       "\t<li>\"3\"</li>\n",
       "\t<li>\"22\"</li>\n",
       "\t<li>\"32\"</li>\n",
       "\t<li>\"34\"</li>\n",
       "\t<li>\"45\"</li>\n",
       "</ol>\n",
       "</li>\n",
       "\t<li><ol class=list-inline>\n",
       "\t<li>\"22\"</li>\n",
       "\t<li>\"32\"</li>\n",
       "\t<li>\"34\"</li>\n",
       "</ol>\n",
       "</li>\n",
       "\t<li><ol class=list-inline>\n",
       "\t<li>\"32\"</li>\n",
       "\t<li>\"34\"</li>\n",
       "</ol>\n",
       "</li>\n",
       "</ol>\n"
      ],
      "text/latex": [
       "\\begin{enumerate}\n",
       "\\item \\begin{enumerate*}\n",
       "\\item \"1\"\n",
       "\\item \"2\"\n",
       "\\item \"3\"\n",
       "\\item \"4\"\n",
       "\\item \"7\"\n",
       "\\item \"8\"\n",
       "\\item \"9\"\n",
       "\\item \"11\"\n",
       "\\item \"18\"\n",
       "\\item \"20\"\n",
       "\\item \"22\"\n",
       "\\item \"24\"\n",
       "\\item \"28\"\n",
       "\\item \"29\"\n",
       "\\item \"31\"\n",
       "\\item \"32\"\n",
       "\\item \"34\"\n",
       "\\item \"37\"\n",
       "\\item \"41\"\n",
       "\\item \"45\"\n",
       "\\item \"48\"\n",
       "\\item \"49\"\n",
       "\\end{enumerate*}\n",
       "\n",
       "\\item \\begin{enumerate*}\n",
       "\\item \"2\"\n",
       "\\item \"3\"\n",
       "\\item \"22\"\n",
       "\\item \"32\"\n",
       "\\item \"34\"\n",
       "\\item \"45\"\n",
       "\\end{enumerate*}\n",
       "\n",
       "\\item \\begin{enumerate*}\n",
       "\\item \"22\"\n",
       "\\item \"32\"\n",
       "\\item \"34\"\n",
       "\\end{enumerate*}\n",
       "\n",
       "\\item \\begin{enumerate*}\n",
       "\\item \"32\"\n",
       "\\item \"34\"\n",
       "\\end{enumerate*}\n",
       "\n",
       "\\end{enumerate}\n"
      ],
      "text/markdown": [
       "1. 1. \"1\"\n",
       "2. \"2\"\n",
       "3. \"3\"\n",
       "4. \"4\"\n",
       "5. \"7\"\n",
       "6. \"8\"\n",
       "7. \"9\"\n",
       "8. \"11\"\n",
       "9. \"18\"\n",
       "10. \"20\"\n",
       "11. \"22\"\n",
       "12. \"24\"\n",
       "13. \"28\"\n",
       "14. \"29\"\n",
       "15. \"31\"\n",
       "16. \"32\"\n",
       "17. \"34\"\n",
       "18. \"37\"\n",
       "19. \"41\"\n",
       "20. \"45\"\n",
       "21. \"48\"\n",
       "22. \"49\"\n",
       "\n",
       "\n",
       "\n",
       "2. 1. \"2\"\n",
       "2. \"3\"\n",
       "3. \"22\"\n",
       "4. \"32\"\n",
       "5. \"34\"\n",
       "6. \"45\"\n",
       "\n",
       "\n",
       "\n",
       "3. 1. \"22\"\n",
       "2. \"32\"\n",
       "3. \"34\"\n",
       "\n",
       "\n",
       "\n",
       "4. 1. \"32\"\n",
       "2. \"34\"\n",
       "\n",
       "\n",
       "\n",
       "\n",
       "\n"
      ],
      "text/plain": [
       "[[1]]\n",
       " [1] \"1\"  \"2\"  \"3\"  \"4\"  \"7\"  \"8\"  \"9\"  \"11\" \"18\" \"20\" \"22\" \"24\" \"28\" \"29\" \"31\"\n",
       "[16] \"32\" \"34\" \"37\" \"41\" \"45\" \"48\" \"49\"\n",
       "\n",
       "[[2]]\n",
       "[1] \"2\"  \"3\"  \"22\" \"32\" \"34\" \"45\"\n",
       "\n",
       "[[3]]\n",
       "[1] \"22\" \"32\" \"34\"\n",
       "\n",
       "[[4]]\n",
       "[1] \"32\" \"34\"\n"
      ]
     },
     "metadata": {},
     "output_type": "display_data"
    }
   ],
   "source": [
    "significance_neg\n",
    "significance_pos"
   ]
  },
  {
   "cell_type": "code",
   "execution_count": 69,
   "metadata": {
    "collapsed": false
   },
   "outputs": [],
   "source": [
    "topics_hot <- as.numeric(names(sort(theta_mean_lm_coef_slope[significance_pos[[1]]], decreasing=TRUE)))\n",
    "topics_cold <- as.numeric(names(sort(theta_mean_lm_coef_slope[significance_neg[[1]]], decreasing=FALSE)))"
   ]
  },
  {
   "cell_type": "code",
   "execution_count": 70,
   "metadata": {
    "collapsed": false
   },
   "outputs": [
    {
     "data": {
      "text/html": [
       "<ol class=list-inline>\n",
       "\t<li>34</li>\n",
       "\t<li>22</li>\n",
       "\t<li>32</li>\n",
       "\t<li>45</li>\n",
       "\t<li>2</li>\n",
       "\t<li>3</li>\n",
       "\t<li>11</li>\n",
       "\t<li>49</li>\n",
       "\t<li>31</li>\n",
       "\t<li>24</li>\n",
       "\t<li>18</li>\n",
       "\t<li>48</li>\n",
       "\t<li>28</li>\n",
       "\t<li>1</li>\n",
       "\t<li>41</li>\n",
       "\t<li>8</li>\n",
       "\t<li>29</li>\n",
       "\t<li>7</li>\n",
       "\t<li>20</li>\n",
       "\t<li>37</li>\n",
       "\t<li>9</li>\n",
       "\t<li>4</li>\n",
       "</ol>\n"
      ],
      "text/latex": [
       "\\begin{enumerate*}\n",
       "\\item 34\n",
       "\\item 22\n",
       "\\item 32\n",
       "\\item 45\n",
       "\\item 2\n",
       "\\item 3\n",
       "\\item 11\n",
       "\\item 49\n",
       "\\item 31\n",
       "\\item 24\n",
       "\\item 18\n",
       "\\item 48\n",
       "\\item 28\n",
       "\\item 1\n",
       "\\item 41\n",
       "\\item 8\n",
       "\\item 29\n",
       "\\item 7\n",
       "\\item 20\n",
       "\\item 37\n",
       "\\item 9\n",
       "\\item 4\n",
       "\\end{enumerate*}\n"
      ],
      "text/markdown": [
       "1. 34\n",
       "2. 22\n",
       "3. 32\n",
       "4. 45\n",
       "5. 2\n",
       "6. 3\n",
       "7. 11\n",
       "8. 49\n",
       "9. 31\n",
       "10. 24\n",
       "11. 18\n",
       "12. 48\n",
       "13. 28\n",
       "14. 1\n",
       "15. 41\n",
       "16. 8\n",
       "17. 29\n",
       "18. 7\n",
       "19. 20\n",
       "20. 37\n",
       "21. 9\n",
       "22. 4\n",
       "\n",
       "\n"
      ],
      "text/plain": [
       " [1] 34 22 32 45  2  3 11 49 31 24 18 48 28  1 41  8 29  7 20 37  9  4"
      ]
     },
     "metadata": {},
     "output_type": "display_data"
    },
    {
     "data": {
      "text/html": [
       "<ol class=list-inline>\n",
       "\t<li>27</li>\n",
       "\t<li>35</li>\n",
       "\t<li>36</li>\n",
       "\t<li>19</li>\n",
       "\t<li>40</li>\n",
       "\t<li>26</li>\n",
       "\t<li>30</li>\n",
       "\t<li>16</li>\n",
       "\t<li>17</li>\n",
       "\t<li>43</li>\n",
       "\t<li>23</li>\n",
       "\t<li>13</li>\n",
       "\t<li>47</li>\n",
       "\t<li>10</li>\n",
       "\t<li>25</li>\n",
       "\t<li>14</li>\n",
       "\t<li>50</li>\n",
       "</ol>\n"
      ],
      "text/latex": [
       "\\begin{enumerate*}\n",
       "\\item 27\n",
       "\\item 35\n",
       "\\item 36\n",
       "\\item 19\n",
       "\\item 40\n",
       "\\item 26\n",
       "\\item 30\n",
       "\\item 16\n",
       "\\item 17\n",
       "\\item 43\n",
       "\\item 23\n",
       "\\item 13\n",
       "\\item 47\n",
       "\\item 10\n",
       "\\item 25\n",
       "\\item 14\n",
       "\\item 50\n",
       "\\end{enumerate*}\n"
      ],
      "text/markdown": [
       "1. 27\n",
       "2. 35\n",
       "3. 36\n",
       "4. 19\n",
       "5. 40\n",
       "6. 26\n",
       "7. 30\n",
       "8. 16\n",
       "9. 17\n",
       "10. 43\n",
       "11. 23\n",
       "12. 13\n",
       "13. 47\n",
       "14. 10\n",
       "15. 25\n",
       "16. 14\n",
       "17. 50\n",
       "\n",
       "\n"
      ],
      "text/plain": [
       " [1] 27 35 36 19 40 26 30 16 17 43 23 13 47 10 25 14 50"
      ]
     },
     "metadata": {},
     "output_type": "display_data"
    }
   ],
   "source": [
    "topics_hot\n",
    "topics_cold"
   ]
  },
  {
   "cell_type": "code",
   "execution_count": 71,
   "metadata": {
    "collapsed": false,
    "scrolled": false
   },
   "outputs": [],
   "source": [
    "cold_and_hot_ts <- cbind(\n",
    "    theta_mean_by_year_ts[,topics_cold[1:5]],\n",
    "    theta_mean_by_year_ts[,topics_hot[1:5]], deparse.level=0)"
   ]
  },
  {
   "cell_type": "code",
   "execution_count": 72,
   "metadata": {
    "collapsed": false
   },
   "outputs": [],
   "source": [
    "colnames(cold_and_hot_ts) <- as.character(c(topics_cold[1:5], topics_hot[1:5]))"
   ]
  },
  {
   "cell_type": "code",
   "execution_count": 73,
   "metadata": {
    "collapsed": true
   },
   "outputs": [],
   "source": [
    "library(lattice)"
   ]
  },
  {
   "cell_type": "code",
   "execution_count": 76,
   "metadata": {
    "collapsed": false
   },
   "outputs": [
    {
     "data": {
      "image/png": "[encoded data removed]",
      "text/plain": [
       "plot without title"
      ]
     },
     "metadata": {
      "image/svg+xml": {
       "isolated": true
      }
     },
     "output_type": "display_data"
    }
   ],
   "source": [
    "print(xyplot(theta_mean_by_year_ts[,names(sort(theta_mean_lm_coef_slope))],\n",
    "\t#layout = c(5, 5),\n",
    "\t#screens = c(rep(\"cold topics\", 5), rep(\"hot topics\", 5)),\n",
    "\tscreens = rep(1:5, each = 10),\n",
    "\tsuperpose = TRUE,\n",
    "\tcol = \"blue\",\n",
    "\talpha = 0.3,\n",
    "\t#ylim = c(0, 0.015),\n",
    "        #ylab = \"Mean theta\",\n",
    "        ylab = expression(paste(\"Mean \",theta)),\n",
    "\txlab = \"Year\",\n",
    "\ttype = c(\"l\", \"g\"),\n",
    "\t#aspect = \"xy\",\n",
    "\t#auto.key = list(space = \"right\"), \n",
    "\tauto.key = FALSE,\n",
    "\tscales = list(x = list(alternating = FALSE)),\n",
    "\t#par.settings = standard.theme(color = FALSE)\n",
    "\t))"
   ]
  },
  {
   "cell_type": "code",
   "execution_count": 74,
   "metadata": {
    "collapsed": false
   },
   "outputs": [
    {
     "data": {
      "image/png": "[encoded data removed]",
      "text/plain": [
       "plot without title"
      ]
     },
     "metadata": {
      "image/svg+xml": {
       "isolated": true
      }
     },
     "output_type": "display_data"
    }
   ],
   "source": [
    "print(xyplot(cold_and_hot_ts,\n",
    "\tlayout = c(1, 2),\n",
    "        screens = c(rep(\"Cold topics\", 5), rep(\"Hot topics\", 5)),\n",
    "\tsuperpose = TRUE,\n",
    "        #ylim = c(0.04, 0.06),\n",
    "\tylab = expression(paste(\"Mean \",theta)),\n",
    "\txlab = \"Year\",\n",
    "\ttype = c(\"l\", \"g\"),\n",
    "\tauto.key = list(space = \"right\"), \n",
    "\tscales = list(x = list(alternating = FALSE))\n",
    "    # scales= list( relation =\"free\")\n",
    "\t#par.settings = standard.theme(color = FALSE)\n",
    "        ))"
   ]
  },
  {
   "cell_type": "code",
   "execution_count": 75,
   "metadata": {
    "collapsed": false
   },
   "outputs": [
    {
     "data": {
      "text/html": [
       "<dl class=dl-horizontal>\n",
       "\t<dt>Topic 27</dt>\n",
       "\t\t<dd>\"religious, experience, argument, basic, one, religion, belief, paternal, sense, can\"</dd>\n",
       "\t<dt>Topic 35</dt>\n",
       "\t\t<dd>\"religious, religion, experience, social, ecstatic, paper, theory, experiences, upon, role\"</dd>\n",
       "\t<dt>Topic 36</dt>\n",
       "\t\t<dd>\"movement, organizations, social, religious, churches, religion, goals, movements, organization, american\"</dd>\n",
       "\t<dt>Topic 19</dt>\n",
       "\t\t<dd>\"religious, death, belief, church, data, found, fear, activity, meaning, beliefs\"</dd>\n",
       "\t<dt>Topic 40</dt>\n",
       "\t\t<dd>\"religious, experience, persons, set, intrinsic, significant, stress, nonreligious, extrinsic, experiences\"</dd>\n",
       "\t<dt>Topic 34</dt>\n",
       "\t\t<dd>\"religious, study, religion, society, scientific, data, survey, associated, attendance, relationship\"</dd>\n",
       "\t<dt>Topic 22</dt>\n",
       "\t\t<dd>\"religiosity, religious, among, health, social, study, association, religion, relationship, women\"</dd>\n",
       "\t<dt>Topic 32</dt>\n",
       "\t\t<dd>\"religious, religion, study, market, abuse, research, society, culture, scientific, treatment\"</dd>\n",
       "\t<dt>Topic 45</dt>\n",
       "\t\t<dd>\"religious, attributions, behavior, god, participants, religion, study, religiosity, attribution, research\"</dd>\n",
       "\t<dt>Topic 2</dt>\n",
       "\t\t<dd>\"spirituality, religious, religion, study, religiosity, data, scientific, society, spiritual, two\"</dd>\n",
       "</dl>\n"
      ],
      "text/latex": [
       "\\begin{description*}\n",
       "\\item[Topic 27] \"religious, experience, argument, basic, one, religion, belief, paternal, sense, can\"\n",
       "\\item[Topic 35] \"religious, religion, experience, social, ecstatic, paper, theory, experiences, upon, role\"\n",
       "\\item[Topic 36] \"movement, organizations, social, religious, churches, religion, goals, movements, organization, american\"\n",
       "\\item[Topic 19] \"religious, death, belief, church, data, found, fear, activity, meaning, beliefs\"\n",
       "\\item[Topic 40] \"religious, experience, persons, set, intrinsic, significant, stress, nonreligious, extrinsic, experiences\"\n",
       "\\item[Topic 34] \"religious, study, religion, society, scientific, data, survey, associated, attendance, relationship\"\n",
       "\\item[Topic 22] \"religiosity, religious, among, health, social, study, association, religion, relationship, women\"\n",
       "\\item[Topic 32] \"religious, religion, study, market, abuse, research, society, culture, scientific, treatment\"\n",
       "\\item[Topic 45] \"religious, attributions, behavior, god, participants, religion, study, religiosity, attribution, research\"\n",
       "\\item[Topic 2] \"spirituality, religious, religion, study, religiosity, data, scientific, society, spiritual, two\"\n",
       "\\end{description*}\n"
      ],
      "text/markdown": [
       "Topic 27\n",
       ":   \"religious, experience, argument, basic, one, religion, belief, paternal, sense, can\"Topic 35\n",
       ":   \"religious, religion, experience, social, ecstatic, paper, theory, experiences, upon, role\"Topic 36\n",
       ":   \"movement, organizations, social, religious, churches, religion, goals, movements, organization, american\"Topic 19\n",
       ":   \"religious, death, belief, church, data, found, fear, activity, meaning, beliefs\"Topic 40\n",
       ":   \"religious, experience, persons, set, intrinsic, significant, stress, nonreligious, extrinsic, experiences\"Topic 34\n",
       ":   \"religious, study, religion, society, scientific, data, survey, associated, attendance, relationship\"Topic 22\n",
       ":   \"religiosity, religious, among, health, social, study, association, religion, relationship, women\"Topic 32\n",
       ":   \"religious, religion, study, market, abuse, research, society, culture, scientific, treatment\"Topic 45\n",
       ":   \"religious, attributions, behavior, god, participants, religion, study, religiosity, attribution, research\"Topic 2\n",
       ":   \"spirituality, religious, religion, study, religiosity, data, scientific, society, spiritual, two\"\n",
       "\n"
      ],
      "text/plain": [
       "                                                                                                   Topic 27 \n",
       "                      \"religious, experience, argument, basic, one, religion, belief, paternal, sense, can\" \n",
       "                                                                                                   Topic 35 \n",
       "                \"religious, religion, experience, social, ecstatic, paper, theory, experiences, upon, role\" \n",
       "                                                                                                   Topic 36 \n",
       " \"movement, organizations, social, religious, churches, religion, goals, movements, organization, american\" \n",
       "                                                                                                   Topic 19 \n",
       "                          \"religious, death, belief, church, data, found, fear, activity, meaning, beliefs\" \n",
       "                                                                                                   Topic 40 \n",
       "\"religious, experience, persons, set, intrinsic, significant, stress, nonreligious, extrinsic, experiences\" \n",
       "                                                                                                   Topic 34 \n",
       "      \"religious, study, religion, society, scientific, data, survey, associated, attendance, relationship\" \n",
       "                                                                                                   Topic 22 \n",
       "         \"religiosity, religious, among, health, social, study, association, religion, relationship, women\" \n",
       "                                                                                                   Topic 32 \n",
       "             \"religious, religion, study, market, abuse, research, society, culture, scientific, treatment\" \n",
       "                                                                                                   Topic 45 \n",
       "\"religious, attributions, behavior, god, participants, religion, study, religiosity, attribution, research\" \n",
       "                                                                                                    Topic 2 \n",
       "         \"spirituality, religious, religion, study, religiosity, data, scientific, society, spiritual, two\" "
      ]
     },
     "metadata": {},
     "output_type": "display_data"
    }
   ],
   "source": [
    "terms_10[c(topics_cold[1:5], topics_hot[1:5])]"
   ]
  },
  {
   "cell_type": "markdown",
   "metadata": {},
   "source": [
    "I do see some validity in this, on the first run (with VEM) I saw mentions of \"sects\" have decreased over time. However theta is still quite erratic. The averaged topics in my thesis were a lot smoother (because of a larger corpus and topics k), therefore the linear models made more sense.\n",
    "\n",
    "A couple of suggestions:\n",
    "\n",
    "- Try model fitting (maybe just rough manual k=10,20,30,40,50,70,...), to find optimal number of topics k for your analysis;\n",
    "\n",
    "- possibly this takes care of common terms like \"religious\", \"religion\", otherwise try more pruning or stemming.\n",
    "\n",
    "- For a better trend analysis maybe take a look at \"dynamic topic models\"."
   ]
  }
 ],
 "metadata": {
  "kernelspec": {
   "display_name": "R",
   "language": "R",
   "name": "ir"
  },
  "language_info": {
   "codemirror_mode": "r",
   "file_extension": ".r",
   "mimetype": "text/x-r-source",
   "name": "R",
   "pygments_lexer": "r",
   "version": "3.3.1"
  }
 },
 "nbformat": 4,
 "nbformat_minor": 0
}
